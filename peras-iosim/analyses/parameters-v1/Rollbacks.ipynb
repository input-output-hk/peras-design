{
 "cells": [
  {
   "cell_type": "code",
   "execution_count": 1,
   "id": "1d428d54-f8e3-44b5-8b74-f8119a484979",
   "metadata": {
    "tags": []
   },
   "outputs": [
    {
     "name": "stderr",
     "output_type": "stream",
     "text": [
      "Loading required package: data.table\n",
      "\n",
      "Loading required package: ggplot2\n",
      "\n",
      "Loading required package: magrittr\n",
      "\n"
     ]
    }
   ],
   "source": [
    "require(data.table)\n",
    "require(ggplot2)\n",
    "require(magrittr)"
   ]
  },
  {
   "cell_type": "code",
   "execution_count": 2,
   "id": "b067ca48-dd9e-4100-a9f7-87ae725d1351",
   "metadata": {
    "tags": []
   },
   "outputs": [
    {
     "data": {
      "text/plain": [
       "     Boost              Seed          At Slot           Blocks     \n",
       " Min.   :0.00000   Min.   :  459   Min.   :  0.00   Min.   :1.000  \n",
       " 1st Qu.:0.02500   1st Qu.: 7845   1st Qu.: 22.00   1st Qu.:1.000  \n",
       " Median :0.05000   Median :14913   Median : 50.00   Median :1.000  \n",
       " Mean   :0.05012   Mean   :15176   Mean   : 67.12   Mean   :1.068  \n",
       " 3rd Qu.:0.07500   3rd Qu.:20952   3rd Qu.: 90.00   3rd Qu.:1.000  \n",
       " Max.   :0.10000   Max.   :30678   Max.   :342.00   Max.   :2.000  \n",
       "     Slots          From Weight      To Weight     \n",
       " Min.   :  1.000   Min.   : 1.00   Min.   : 2.000  \n",
       " 1st Qu.:  2.000   1st Qu.: 5.75   1st Qu.: 6.225  \n",
       " Median :  4.000   Median :11.75   Median :12.750  \n",
       " Mean   :  5.087   Mean   :16.96   Mean   :17.934  \n",
       " 3rd Qu.:  7.000   3rd Qu.:26.42   3rd Qu.:27.420  \n",
       " Max.   :140.000   Max.   :83.00   Max.   :84.000  "
      ]
     },
     "metadata": {},
     "output_type": "display_data"
    }
   ],
   "source": [
    "rollbacks <- fread(\"rollbacks.csv\")\n",
    "rollbacks %>% summary"
   ]
  },
  {
   "cell_type": "code",
   "execution_count": 3,
   "id": "573850c9-c7c0-43d2-ab5c-71f224eeb6a4",
   "metadata": {
    "tags": []
   },
   "outputs": [
    {
     "data": {
      "text/html": [
       "<table class=\"dataframe\">\n",
       "<caption>A data.table: 6 x 7</caption>\n",
       "<thead>\n",
       "\t<tr><th scope=col>Boost</th><th scope=col>Seed</th><th scope=col>At Slot</th><th scope=col>Blocks</th><th scope=col>Slots</th><th scope=col>From Weight</th><th scope=col>To Weight</th></tr>\n",
       "\t<tr><th scope=col>&lt;dbl&gt;</th><th scope=col>&lt;int&gt;</th><th scope=col>&lt;int&gt;</th><th scope=col>&lt;int&gt;</th><th scope=col>&lt;int&gt;</th><th scope=col>&lt;dbl&gt;</th><th scope=col>&lt;dbl&gt;</th></tr>\n",
       "</thead>\n",
       "<tbody>\n",
       "\t<tr><td>0</td><td>14191</td><td> 61</td><td>1</td><td>4</td><td>11</td><td>12</td></tr>\n",
       "\t<tr><td>0</td><td>14191</td><td> 61</td><td>1</td><td>4</td><td>11</td><td>12</td></tr>\n",
       "\t<tr><td>0</td><td>14191</td><td> 61</td><td>1</td><td>4</td><td>11</td><td>12</td></tr>\n",
       "\t<tr><td>0</td><td>14191</td><td> 61</td><td>1</td><td>4</td><td>11</td><td>12</td></tr>\n",
       "\t<tr><td>0</td><td>14191</td><td> 61</td><td>1</td><td>4</td><td>11</td><td>12</td></tr>\n",
       "\t<tr><td>0</td><td>14191</td><td>107</td><td>1</td><td>2</td><td>26</td><td>27</td></tr>\n",
       "</tbody>\n",
       "</table>\n"
      ],
      "text/latex": [
       "A data.table: 6 x 7\n",
       "\\begin{tabular}{lllllll}\n",
       " Boost & Seed & At Slot & Blocks & Slots & From Weight & To Weight\\\\\n",
       " <dbl> & <int> & <int> & <int> & <int> & <dbl> & <dbl>\\\\\n",
       "\\hline\n",
       "\t 0 & 14191 &  61 & 1 & 4 & 11 & 12\\\\\n",
       "\t 0 & 14191 &  61 & 1 & 4 & 11 & 12\\\\\n",
       "\t 0 & 14191 &  61 & 1 & 4 & 11 & 12\\\\\n",
       "\t 0 & 14191 &  61 & 1 & 4 & 11 & 12\\\\\n",
       "\t 0 & 14191 &  61 & 1 & 4 & 11 & 12\\\\\n",
       "\t 0 & 14191 & 107 & 1 & 2 & 26 & 27\\\\\n",
       "\\end{tabular}\n"
      ],
      "text/markdown": [
       "\n",
       "A data.table: 6 x 7\n",
       "\n",
       "| Boost &lt;dbl&gt; | Seed &lt;int&gt; | At Slot &lt;int&gt; | Blocks &lt;int&gt; | Slots &lt;int&gt; | From Weight &lt;dbl&gt; | To Weight &lt;dbl&gt; |\n",
       "|---|---|---|---|---|---|---|\n",
       "| 0 | 14191 |  61 | 1 | 4 | 11 | 12 |\n",
       "| 0 | 14191 |  61 | 1 | 4 | 11 | 12 |\n",
       "| 0 | 14191 |  61 | 1 | 4 | 11 | 12 |\n",
       "| 0 | 14191 |  61 | 1 | 4 | 11 | 12 |\n",
       "| 0 | 14191 |  61 | 1 | 4 | 11 | 12 |\n",
       "| 0 | 14191 | 107 | 1 | 2 | 26 | 27 |\n",
       "\n"
      ],
      "text/plain": [
       "  Boost Seed  At Slot Blocks Slots From Weight To Weight\n",
       "1 0     14191  61     1      4     11          12       \n",
       "2 0     14191  61     1      4     11          12       \n",
       "3 0     14191  61     1      4     11          12       \n",
       "4 0     14191  61     1      4     11          12       \n",
       "5 0     14191  61     1      4     11          12       \n",
       "6 0     14191 107     1      2     26          27       "
      ]
     },
     "metadata": {},
     "output_type": "display_data"
    }
   ],
   "source": [
    "rollbacks %>% head"
   ]
  },
  {
   "cell_type": "code",
   "execution_count": 4,
   "id": "e2d8d196-2c12-4cf3-b948-1c07aa8449bc",
   "metadata": {
    "tags": []
   },
   "outputs": [
    {
     "data": {
      "image/png": "[encoded data removed]",
      "text/plain": [
       "plot without title"
      ]
     },
     "metadata": {
      "image/png": {
       "height": 420,
       "width": 420
      }
     },
     "output_type": "display_data"
    }
   ],
   "source": [
    "ggplot(rollbacks[, .(Blocks=sum(Blocks), Slots=sum(Slots)), by=.(Boost)], aes(x=Boost, y=Blocks)) +\n",
    "  geom_point()"
   ]
  }
 ],
 "metadata": {
  "kernelspec": {
   "display_name": "r-minimal kernel",
   "language": "r",
   "name": "r-minimal"
  },
  "language_info": {
   "codemirror_mode": "r",
   "file_extension": ".r",
   "mimetype": "text/x-r-source",
   "name": "R",
   "pygments_lexer": "r",
   "version": "4.2.2"
  }
 },
 "nbformat": 4,
 "nbformat_minor": 5
}
