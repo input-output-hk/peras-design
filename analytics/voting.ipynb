{
 "cells": [
  {
   "cell_type": "markdown",
   "id": "2784f4b5-2209-4189-8424-1e3258cc3503",
   "metadata": {},
   "source": [
    "# Vote probabilities in Haskell"
   ]
  },
  {
   "cell_type": "markdown",
   "id": "5a14df6e-2192-41c6-b279-abe37adc3c6b",
   "metadata": {},
   "source": [
    "### Imports"
   ]
  },
  {
   "cell_type": "code",
   "execution_count": 1,
   "id": "1696e2b6-8d1f-45f9-9c6f-289b03450cbf",
   "metadata": {
    "tags": []
   },
   "outputs": [],
   "source": [
    "import Statistics.Distribution (probability)\n",
    "import Statistics.Distribution.Binomial (binomial)"
   ]
  },
  {
   "cell_type": "markdown",
   "id": "df99fc72-3675-4b75-bfba-f874a499d268",
   "metadata": {},
   "source": [
    "### Per-lovelace probability"
   ]
  },
  {
   "cell_type": "code",
   "execution_count": 2,
   "id": "04de661d-a666-4146-9324-f9db8ae95a93",
   "metadata": {
    "tags": []
   },
   "outputs": [],
   "source": [
    "-- | Compute the fundamental probability of a lovelace being selected for the committee.\n",
    "committeeProbabilityFromMeanSize\n",
    "  :: Int     -- ^ The total lovelace.\n",
    "  -> Double  -- ^ The mean voting-committee size.\n",
    "  -> Double  -- ^ The probability of one lovelace being selected for the voting committee.\n",
    "committeeProbabilityFromMeanSize totalStake meanCommitteeSize = meanCommitteeSize / fromIntegral totalStake"
   ]
  },
  {
   "cell_type": "markdown",
   "id": "807ce529-55b9-454d-8662-57dfdeb84416",
   "metadata": {},
   "source": [
    "### Committee-membership probabilities"
   ]
  },
  {
   "cell_type": "code",
   "execution_count": 3,
   "id": "b1d12f69-8e87-49b9-9466-8a39914e9d99",
   "metadata": {
    "tags": []
   },
   "outputs": [],
   "source": [
    "-- | Compute the probability of a party having a given number of votes.\n",
    "voteProbability\n",
    "  :: Double  -- ^ Probability of one lovelace being selected for the voting committee.\n",
    "  -> Int     -- ^ Lovelace held by the party.\n",
    "  -> Int     -- ^ Number of votes allocated to the party.\n",
    "  -> Double  -- ^ Probability of the party being allocated the given number of votes.\n",
    "voteProbability = (probability .) . flip binomial"
   ]
  },
  {
   "cell_type": "markdown",
   "id": "48998606-efd9-4a09-beca-fccb2f56d159",
   "metadata": {
    "tags": []
   },
   "source": [
    "### Check the mean number of votes"
   ]
  },
  {
   "cell_type": "markdown",
   "id": "11ea0e85-fc6e-41d9-88bd-cc4e0abc73f3",
   "metadata": {},
   "source": [
    "#### All parties"
   ]
  },
  {
   "cell_type": "code",
   "execution_count": 4,
   "id": "84c36df8-e7a9-4a4c-bfe7-d40a024e0c45",
   "metadata": {
    "tags": []
   },
   "outputs": [],
   "source": [
    "-- | Compute the mean number of votes expected for a party.\n",
    "meanNumberOfVotes\n",
    "  :: Double  -- ^ Probability of one lovelace being selected for the voting committee.\n",
    "  -> Int     -- ^ Lovelace held by the party.\n",
    "  -> Double  -- ^ Expected number of votes for the party.\n",
    "meanNumberOfVotes committeeProbability stake = sum [fromIntegral votes * voteProbability committeeProbability stake votes | votes <- [0..stake]]"
   ]
  },
  {
   "cell_type": "markdown",
   "id": "e08c3be7-cdfc-444b-96d5-24a4f160306d",
   "metadata": {},
   "source": [
    "A test for round-off errors."
   ]
  },
  {
   "cell_type": "code",
   "execution_count": 5,
   "id": "fb900801-0a30-4bf7-8c29-bbb7c3adc8c6",
   "metadata": {
    "tags": []
   },
   "outputs": [
    {
     "data": {
      "text/plain": [
       "199.9999999999986"
      ]
     },
     "metadata": {},
     "output_type": "display_data"
    }
   ],
   "source": [
    "testTotalStake = 1000\n",
    "testCommitteeSize = 200\n",
    "\n",
    "testP = committeeProbabilityFromMeanSize 1000 200\n",
    "\n",
    "testMeanVotes = meanNumberOfVotes testP testTotalStake\n",
    "\n",
    "testMeanVotes"
   ]
  },
  {
   "cell_type": "code",
   "execution_count": 6,
   "id": "a5c71e5a-a58c-49ec-ad9a-07c2df55c6b8",
   "metadata": {
    "tags": []
   },
   "outputs": [
    {
     "data": {
      "text/plain": [
       "1.3926637620897964e-12"
      ]
     },
     "metadata": {},
     "output_type": "display_data"
    }
   ],
   "source": [
    "abs $ testMeanVotes - testCommitteeSize"
   ]
  },
  {
   "cell_type": "markdown",
   "id": "c9a108a9-1ae4-400b-8593-cd70fc7889f8",
   "metadata": {},
   "source": [
    "#### Several parties"
   ]
  },
  {
   "cell_type": "code",
   "execution_count": 7,
   "id": "a2416573-8fff-48eb-ac27-9970600209d9",
   "metadata": {
    "tags": []
   },
   "outputs": [
    {
     "data": {
      "text/plain": [
       "[20.000000000000224,80.0000000000033,100.00000000000468]"
      ]
     },
     "metadata": {},
     "output_type": "display_data"
    }
   ],
   "source": [
    "testStakes = [100, 400, 500]\n",
    "\n",
    "testPartyVotes = meanNumberOfVotes testP <$> testStakes\n",
    "\n",
    "testPartyVotes"
   ]
  },
  {
   "cell_type": "code",
   "execution_count": 8,
   "id": "0643402d-fed4-4279-9a60-b01ccd3da79f",
   "metadata": {
    "tags": []
   },
   "outputs": [
    {
     "data": {
      "text/plain": [
       "200.00000000000819"
      ]
     },
     "metadata": {},
     "output_type": "display_data"
    }
   ],
   "source": [
    "sum testPartyVotes"
   ]
  },
  {
   "cell_type": "markdown",
   "id": "470e1418-6119-45b9-bf8f-a741ab876d3f",
   "metadata": {},
   "source": [
    "A test for round-off errors."
   ]
  },
  {
   "cell_type": "code",
   "execution_count": 9,
   "id": "38541119-bb1b-4418-bfd2-8ecd1d973a55",
   "metadata": {
    "tags": []
   },
   "outputs": [
    {
     "data": {
      "text/plain": [
       "8.185452315956354e-12"
      ]
     },
     "metadata": {},
     "output_type": "display_data"
    }
   ],
   "source": [
    "abs $ sum testPartyVotes - testCommitteeSize"
   ]
  }
 ],
 "metadata": {
  "kernelspec": {
   "display_name": "haskell-minimal kernel",
   "language": "haskell",
   "name": "haskell-minimal"
  },
  "language_info": {
   "codemirror_mode": "Haskell",
   "file_extension": ".hs",
   "mimetype": "text/x-haskell",
   "name": "haskell",
   "pygments_lexer": "Haskell",
   "version": "9.0.2"
  }
 },
 "nbformat": 4,
 "nbformat_minor": 5
}
