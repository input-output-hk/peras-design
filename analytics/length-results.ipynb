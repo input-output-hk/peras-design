{
 "cells": [
  {
   "cell_type": "code",
   "execution_count": 1,
   "id": "7eea8211-3f13-4910-b63f-7b9b6f169ac2",
   "metadata": {
    "tags": []
   },
   "outputs": [
    {
     "name": "stderr",
     "output_type": "stream",
     "text": [
      "Loading required package: data.table\n",
      "\n",
      "Loading required package: ggplot2\n",
      "\n",
      "Loading required package: magrittr\n",
      "\n"
     ]
    }
   ],
   "source": [
    "require(data.table)\n",
    "require(ggplot2)\n",
    "require(magrittr)"
   ]
  },
  {
   "cell_type": "code",
   "execution_count": 2,
   "id": "8154d9e3-878e-4a45-8abb-8e75bac76eea",
   "metadata": {
    "tags": []
   },
   "outputs": [],
   "source": [
    "raw <- fread(\"/extra/iohk/peras-design.conformance/peras-markov/length-results.tsv\")\n",
    "colnames(raw) <- c(\"Slot\", \"ΔWeight\", \"Probability\")"
   ]
  },
  {
   "cell_type": "code",
   "execution_count": 3,
   "id": "4ec755eb-cf20-4c63-86c4-f9197b32034c",
   "metadata": {
    "tags": []
   },
   "outputs": [
    {
     "data": {
      "text/plain": [
       "      Slot         ΔWeight       Probability       \n",
       " Min.   :   1   Min.   :-23.0   Min.   :0.0000000  \n",
       " 1st Qu.: 843   1st Qu.: 37.0   1st Qu.:0.0000000  \n",
       " Median :1305   Median : 94.0   Median :0.0000000  \n",
       " Mean   :1233   Mean   :106.1   Mean   :0.0049357  \n",
       " 3rd Qu.:1678   3rd Qu.:165.0   3rd Qu.:0.0000322  \n",
       " Max.   :2000   Max.   :332.0   Max.   :0.9502308  "
      ]
     },
     "metadata": {},
     "output_type": "display_data"
    }
   ],
   "source": [
    "raw %>% summary"
   ]
  },
  {
   "cell_type": "code",
   "execution_count": 4,
   "id": "6ccfbd80-43a1-4d82-8987-3bf002a8dc9b",
   "metadata": {
    "tags": []
   },
   "outputs": [],
   "source": [
    "results <- raw[ Slot <= 2000 & Probability > 0]"
   ]
  },
  {
   "cell_type": "code",
   "execution_count": 5,
   "id": "618229ed-d9bf-459e-a210-053306599280",
   "metadata": {
    "tags": []
   },
   "outputs": [
    {
     "data": {
      "text/plain": [
       "      Slot         ΔWeight       Probability       \n",
       " Min.   :   1   Min.   :-23.0   Min.   :0.0000000  \n",
       " 1st Qu.: 843   1st Qu.: 37.0   1st Qu.:0.0000000  \n",
       " Median :1305   Median : 94.0   Median :0.0000000  \n",
       " Mean   :1233   Mean   :106.1   Mean   :0.0049357  \n",
       " 3rd Qu.:1678   3rd Qu.:165.0   3rd Qu.:0.0000322  \n",
       " Max.   :2000   Max.   :332.0   Max.   :0.9502308  "
      ]
     },
     "metadata": {},
     "output_type": "display_data"
    }
   ],
   "source": [
    "results %>% summary"
   ]
  },
  {
   "cell_type": "code",
   "execution_count": 6,
   "id": "3a09857e-29cf-46c2-900e-3354290d1d61",
   "metadata": {
    "tags": []
   },
   "outputs": [],
   "source": [
    "for (slot in c(unique(floor((1.03)^(0:233))), 1000)) {\n",
    "    g <- ggplot(results[Slot == slot], aes(x=ΔWeight, y=Probability)) +\n",
    "    geom_vline(xintercept = 0, color=\"blue\") +\n",
    "    geom_line() +\n",
    "    #scale_x_continuous(name=\"Honest chain's weight minus adversary chain's weight\", limits=range(results$ΔWeight)) +\n",
    "    #scale_y_log10(name=\"Probability (log scale)\", limits=c(1e-15, 1)) +\n",
    "    #coord_cartesian(clip=\"on\") +\n",
    "    xlab(\"Honest chain's weight minus adversary chain's weight\") +\n",
    "    ylab(\"Probability (log scale)\") +\n",
    "    scale_y_log10() +\n",
    "#   coord_cartesian(xlim=range(results$ΔWeight), ylim=c(1e-15, 1)) +\n",
    "    coord_cartesian(xlim=c(-25,150), ylim=c(1e-15, 1)) +\n",
    "    ggtitle(sprintf(\"Adversary vs Honest Party at slot %4i\", slot))\n",
    "    ggsave(filename=paste(gsub(\" \", \"0\", sprintf(\"%4i\", slot)), \"png\", sep=\".\"), plot=g, width=9, height=4.75, dpi=100, units=\"in\")\n",
    "}"
   ]
  },
  {
   "cell_type": "code",
   "execution_count": 7,
   "id": "75a1941a-9809-4296-9067-46665d686503",
   "metadata": {},
   "outputs": [],
   "source": [
    "# convert -delay 5 ????.png length-results.gif"
   ]
  }
 ],
 "metadata": {
  "kernelspec": {
   "display_name": "r-minimal kernel",
   "language": "r",
   "name": "r-minimal"
  },
  "language_info": {
   "codemirror_mode": "r",
   "file_extension": ".r",
   "mimetype": "text/x-r-source",
   "name": "R",
   "pygments_lexer": "r",
   "version": "4.2.2"
  }
 },
 "nbformat": 4,
 "nbformat_minor": 5
}
